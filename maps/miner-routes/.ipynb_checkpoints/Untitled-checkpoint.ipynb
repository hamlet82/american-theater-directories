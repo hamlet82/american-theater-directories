{
 "cells": [
  {
   "cell_type": "code",
   "execution_count": 1,
   "metadata": {},
   "outputs": [],
   "source": [
    "import re, json, datetime"
   ]
  },
  {
   "cell_type": "code",
   "execution_count": 67,
   "metadata": {},
   "outputs": [],
   "source": [
    "cities = {}\n",
    "with open('data/miner-routes.txt','r') as file:\n",
    "    for i,r in enumerate(file):\n",
    "        if re.search(r'^SEASON',r):\n",
    "            season = re.search(r'(\\d{4}-\\d{4})',r).group(1)\n",
    "        else:\n",
    "            regex = re.match(r'(?P<date>\\d{4} \\w* \\d{1,2}), (?P<city>.*?), (?P<state>[A-Z]{2})$',r)\n",
    "            if (regex.group('city'),regex.group('state')) not in cities:\n",
    "                cities[(regex.group('city'),regex.group('state'))] = []\n",
    "            date = datetime.datetime.strftime(datetime.datetime.strptime(regex.group('date'),'%Y %B %d').date(),'%Y-%m-%d')\n",
    "            cities[(regex.group('city'),regex.group('state'))].append({'date':date,'season':season})"
   ]
  },
  {
   "cell_type": "code",
   "execution_count": 68,
   "metadata": {},
   "outputs": [],
   "source": [
    "with open('../syndicate/data/theater-cities_cahn-vol-15.geojson','r') as file:\n",
    "    geo = json.load(file)\n",
    "features = geo['features']"
   ]
  },
  {
   "cell_type": "code",
   "execution_count": 69,
   "metadata": {},
   "outputs": [],
   "source": [
    "geocities = []\n",
    "for c in cities:\n",
    "    match = False\n",
    "    city = c[0].upper()\n",
    "    state = c[1]\n",
    "    for g in features:\n",
    "        cg = g['properties']['city']\n",
    "        cs = g['properties']['region']\n",
    "        if (city == cg) and (state == cs):\n",
    "            g['properties']['dates'] = cities[c]\n",
    "            geocities.append(g)"
   ]
  },
  {
   "cell_type": "code",
   "execution_count": 73,
   "metadata": {},
   "outputs": [],
   "source": [
    "with open('data/miner-tours.geojson','w') as file:\n",
    "    json.dump(json.loads(json.dumps(geocities)),file,indent=2)"
   ]
  },
  {
   "cell_type": "code",
   "execution_count": 71,
   "metadata": {},
   "outputs": [],
   "source": [
    "x = json.loads(json.dumps(geocities))"
   ]
  },
  {
   "cell_type": "code",
   "execution_count": null,
   "metadata": {},
   "outputs": [],
   "source": []
  }
 ],
 "metadata": {
  "kernelspec": {
   "display_name": "Python 3",
   "language": "python",
   "name": "python3"
  },
  "language_info": {
   "codemirror_mode": {
    "name": "ipython",
    "version": 3
   },
   "file_extension": ".py",
   "mimetype": "text/x-python",
   "name": "python",
   "nbconvert_exporter": "python",
   "pygments_lexer": "ipython3",
   "version": "3.6.9"
  }
 },
 "nbformat": 4,
 "nbformat_minor": 4
}
